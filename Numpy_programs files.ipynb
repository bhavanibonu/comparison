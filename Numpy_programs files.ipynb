{
 "cells": [
  {
   "cell_type": "code",
   "execution_count": 1,
   "id": "2a3ae074",
   "metadata": {},
   "outputs": [
    {
     "name": "stdout",
     "output_type": "stream",
     "text": [
      "\n",
      "An Array: [54 78 32 46 89 76]\n",
      "\n",
      "Sum: 375\n",
      "Product -1012440064\n",
      "Mean: 62.5\n",
      "Standard Deviation: 19.997916558148418\n",
      "Variance 399.9166666666667\n",
      "Minimum Value: 32\n",
      "Max: 89\n",
      "Min Index: 2\n",
      "Max Index: 4\n",
      "Median: 65.0\n",
      "Product: -1012440064\n"
     ]
    }
   ],
   "source": [
    "import numpy as n\n",
    "a=n.array([54,78,32,46,89,76])\n",
    "print(\"\\nAn Array:\",a)\n",
    "print(\"\\nSum:\",n.sum(a))\n",
    "print(\"Product\",n.prod(a))\n",
    "print(\"Mean:\",n.mean(a))\n",
    "print(\"Standard Deviation:\",n.std(a))\n",
    "print(\"Variance\",n.var(a))\n",
    "print(\"Minimum Value:\",n.min(a))\n",
    "print(\"Max:\",n.max(a))\n",
    "print(\"Min Index:\",n.argmin(a))\n",
    "print(\"Max Index:\",n.argmax(a))\n",
    "print(\"Median:\",n.median(a))\n",
    "print(\"Product:\",n.prod(a))"
   ]
  },
  {
   "cell_type": "code",
   "execution_count": 5,
   "id": "76fd34d8",
   "metadata": {},
   "outputs": [
    {
     "name": "stdout",
     "output_type": "stream",
     "text": [
      "20\n",
      "Time taken by vectorized product : 4.53 µs ± 164 ns per loop (mean ± std. dev. of 7 runs, 100000 loops each)\n",
      "20\n",
      "Time taken by iterative multiplication : 17.7 ns ± 0.506 ns per loop (mean ± std. dev. of 7 runs, 100000000 loops each)\n"
     ]
    }
   ],
   "source": [
    "import numpy as np\n",
    "import timeit\n",
    "np.a=[4,5,1]\n",
    "print(np.prod(np.a))\n",
    "print(\"Time taken by vectorized product : \",end= \"\")\n",
    "%timeit np.prod(np.a)\n",
    "total = 1\n",
    "for item in np.a:\n",
    "    total =total*item\n",
    "t = total\n",
    "print(t)\n",
    "print(\"Time taken by iterative multiplication : \",end= \"\")\n",
    "%timeit t"
   ]
  },
  {
   "cell_type": "code",
   "execution_count": 3,
   "id": "82184e09",
   "metadata": {},
   "outputs": [
    {
     "name": "stdout",
     "output_type": "stream",
     "text": [
      "6\n",
      "Time taken to vectorized sum:\n",
      "3.71 µs ± 87.4 ns per loop (mean ± std. dev. of 7 runs, 100000 loops each)\n",
      "\n",
      "6\n",
      "Time Taken by iterative sum:17.2 ns ± 0.509 ns per loop (mean ± std. dev. of 7 runs, 100000000 loops each)\n"
     ]
    }
   ],
   "source": [
    "import numpy as n\n",
    "import timeit\n",
    "print(n.sum(n.arange(4)))\n",
    "print(\"Time taken to vectorized sum:\")\n",
    "%timeit n.sum(n.arange(4))\n",
    "t=0\n",
    "for i in range(0,4):\n",
    " t+=i\n",
    "a=t\n",
    "print(\"\\n\"+str(a))\n",
    "print(\"Time Taken by iterative sum:\",end=\"\")\n",
    "%timeit a\n"
   ]
  },
  {
   "cell_type": "code",
   "execution_count": 6,
   "id": "96eee397",
   "metadata": {},
   "outputs": [
    {
     "name": "stdout",
     "output_type": "stream",
     "text": [
      "[3600, 64, 49, 25, 1156, 6084]\n",
      "[60, 8, 7, 5, 34, 78]\n",
      "192\n"
     ]
    }
   ],
   "source": [
    "import numpy as n\n",
    "da=[60,8,7,5,34,78]\n",
    "d=n.array(da)\n",
    "from functools import reduce as r\n",
    "print(list(map(lambda num:num**2,d)))\n",
    "print(list(filter(lambda num:num>2,d)))\n",
    "print(r(lambda x,y:x+y,d))"
   ]
  },
  {
   "cell_type": "code",
   "execution_count": null,
   "id": "e778ec78",
   "metadata": {},
   "outputs": [],
   "source": []
  }
 ],
 "metadata": {
  "kernelspec": {
   "display_name": "Python 3 (ipykernel)",
   "language": "python",
   "name": "python3"
  },
  "language_info": {
   "codemirror_mode": {
    "name": "ipython",
    "version": 3
   },
   "file_extension": ".py",
   "mimetype": "text/x-python",
   "name": "python",
   "nbconvert_exporter": "python",
   "pygments_lexer": "ipython3",
   "version": "3.9.13"
  }
 },
 "nbformat": 4,
 "nbformat_minor": 5
}
