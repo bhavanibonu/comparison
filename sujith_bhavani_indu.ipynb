{
 "cells": [
  {
   "cell_type": "code",
   "execution_count": 6,
   "id": "be6cccb8",
   "metadata": {},
   "outputs": [
    {
     "data": {
      "text/plain": [
       "107.0"
      ]
     },
     "execution_count": 6,
     "metadata": {},
     "output_type": "execute_result"
    }
   ],
   "source": [
    "from scipy.stats import uniform\n",
    "x= 105\n",
    ".0\n",
    "low= 101.7 \n",
    "diff= 22.6 \n",
    "punif = uniform.cdf(x,loc = low,scale = diff)\n",
    "qunif = uniform.ppf(punif,loc = low,scale = diff)\n",
    "qunif\n"
   ]
  },
  {
   "cell_type": "code",
   "execution_count": 3,
   "id": "1f4aee9e",
   "metadata": {},
   "outputs": [
    {
     "data": {
      "text/plain": [
       "array([112.10265499, 121.92078151, 110.31725893, 111.06281852,\n",
       "       117.1762445 , 109.27405625, 115.45648154, 108.173735  ,\n",
       "       101.99922025, 121.65818407, 121.20388215, 113.8849747 ,\n",
       "       103.05938493, 117.12490133, 108.13721924, 105.29750674,\n",
       "       113.59273605, 109.58933013, 102.02130059, 102.7972126 ,\n",
       "       112.90114877, 108.10499392, 117.90457819, 116.36805978,\n",
       "       115.62745903, 101.9170375 , 116.64832906, 110.95918355,\n",
       "       121.24946836, 107.12319948, 118.94501483, 119.28265337,\n",
       "       108.33716926, 102.77247117, 118.50871549, 102.78522905,\n",
       "       106.45540944, 111.51433608, 106.18606649, 113.88749052,\n",
       "       110.14047977, 121.26238996, 103.32172541, 108.62952744,\n",
       "       111.82270146, 102.21365126, 123.90145487, 103.12745385,\n",
       "       113.29427879, 114.34048699])"
      ]
     },
     "execution_count": 3,
     "metadata": {},
     "output_type": "execute_result"
    }
   ],
   "source": [
    "from scipy.stats import uniform\n",
    "low= 101.7 \n",
    "diff= 22.6 \n",
    "runif = uniform.rvs(loc = low,scale = diff, size = 50)\n",
    "runif"
   ]
  },
  {
   "cell_type": "code",
   "execution_count": 4,
   "id": "019349c8",
   "metadata": {},
   "outputs": [
    {
     "name": "stdout",
     "output_type": "stream",
     "text": [
      "When x=1, CDF is 0.2\n"
     ]
    }
   ],
   "source": [
    "from scipy.stats import randint\n",
    "x = 1 \n",
    "low = 1 \n",
    "high = 6 \n",
    "prandint = randint.cdf(x, low, high)\n",
    "print(\"When x=1, CDF is\", prandint)"
   ]
  },
  {
   "cell_type": "code",
   "execution_count": 5,
   "id": "60c17a6b",
   "metadata": {},
   "outputs": [
    {
     "data": {
      "image/png": "[encoded data removed]",
      "text/plain": [
       "<Figure size 640x480 with 1 Axes>"
      ]
     },
     "metadata": {},
     "output_type": "display_data"
    }
   ],
   "source": [
    "import matplotlib.pyplot as plt; plt.rcdefaults()\n",
    "import numpy as np\n",
    "import matplotlib.pyplot as plt\n",
    "low = 1\n",
    "high = 6\n",
    "x = np.arange(1, 6, 1)\n",
    "y2 = randint.cdf(x, low, high)\n",
    "plt.bar(x, y2)\n",
    "plt.xlabel('Possible outcomes, x')\n",
    "plt.ylabel('P(X <= x)')\n",
    "plt.title('The Discrete Uniform Distribution - CDF')\n",
    "plt.show()"
   ]
  },
  {
   "cell_type": "code",
   "execution_count": 7,
   "id": "cac389b8",
   "metadata": {},
   "outputs": [],
   "source": [
    "import pandas as pd\n",
    "import matplotlib as plt\n",
    "import numpy as np\n",
    "import seaborn as sns"
   ]
  },
  {
   "cell_type": "code",
   "execution_count": 29,
   "id": "53a6a62f",
   "metadata": {},
   "outputs": [
    {
     "name": "stdout",
     "output_type": "stream",
     "text": [
      "  Gender     Height      Weight\n",
      "0   Male  73.847017  241.893563\n",
      "1   Male  68.781904  162.310473\n",
      "2   Male  74.110105  212.740856\n",
      "3   Male  71.730978  220.042470\n",
      "4   Male  69.881796  206.349801\n",
      "      Gender     Height      Weight\n",
      "9995  Female  66.172652  136.777454\n",
      "9996  Female  67.067155  170.867906\n",
      "9997  Female  63.867992  128.475319\n",
      "9998  Female  69.034243  163.852461\n",
      "9999  Female  61.944246  113.649103\n",
      "(10000, 3)\n",
      "<class 'pandas.core.frame.DataFrame'>\n",
      "RangeIndex: 10000 entries, 0 to 9999\n",
      "Data columns (total 3 columns):\n",
      " #   Column  Non-Null Count  Dtype  \n",
      "---  ------  --------------  -----  \n",
      " 0   Gender  10000 non-null  object \n",
      " 1   Height  10000 non-null  float64\n",
      " 2   Weight  10000 non-null  float64\n",
      "dtypes: float64(2), object(1)\n",
      "memory usage: 234.5+ KB\n",
      "None\n",
      "             Height        Weight\n",
      "count  10000.000000  10000.000000\n",
      "mean      66.367560    161.440357\n",
      "std        3.847528     32.108439\n",
      "min       54.263133     64.700127\n",
      "25%       63.505620    135.818051\n",
      "50%       66.318070    161.212928\n",
      "75%       69.174262    187.169525\n",
      "max       78.998742    269.989699\n",
      "Gender    0\n",
      "Height    0\n",
      "Weight    0\n",
      "dtype: int64\n",
      "66.36755975482106\n",
      "161.44035683283076\n",
      "78.9987423463896\n",
      "269.989698505106\n",
      "54.2631333250971\n",
      "64.700126712753\n"
     ]
    }
   ],
   "source": [
    "bbb=pd.read_csv(\"C:/Users/bhava/Downloads/weight-height.csv\")\n",
    "print(bbb.head(5))\n",
    "print(bbb.tail(5))\n",
    "print(bbb.shape)\n",
    "print(bbb.info())\n",
    "print(bbb.describe())\n",
    "print(bbb.isnull().sum())\n",
    "sib_bbb=bbb['Height'].mean()\n",
    "print(sib_bbb)\n",
    "sib_bbi=bbb['Weight'].mean()\n",
    "print(sib_bbi)\n",
    "max_bbb=bbb['Height'].max()\n",
    "print(max_bbb)\n",
    "max_bbi=bbb['Weight'].max()\n",
    "print(max_bbi)\n",
    "min_bbb=bbb['Height'].min()\n",
    "print(min_bbb)\n",
    "min_bbi=bbb['Weight'].min()\n",
    "print(min_bbi)\n"
   ]
  },
  {
   "cell_type": "code",
   "execution_count": null,
   "id": "2dbeb5ff",
   "metadata": {},
   "outputs": [],
   "source": []
  },
  {
   "cell_type": "code",
   "execution_count": null,
   "id": "5c746f66",
   "metadata": {},
   "outputs": [],
   "source": []
  }
 ],
 "metadata": {
  "kernelspec": {
   "display_name": "Python 3 (ipykernel)",
   "language": "python",
   "name": "python3"
  },
  "language_info": {
   "codemirror_mode": {
    "name": "ipython",
    "version": 3
   },
   "file_extension": ".py",
   "mimetype": "text/x-python",
   "name": "python",
   "nbconvert_exporter": "python",
   "pygments_lexer": "ipython3",
   "version": "3.9.13"
  }
 },
 "nbformat": 4,
 "nbformat_minor": 5
}
